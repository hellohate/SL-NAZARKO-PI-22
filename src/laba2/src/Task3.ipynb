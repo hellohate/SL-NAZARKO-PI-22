{
 "cells": [
  {
   "cell_type": "code",
   "execution_count": 37,
   "id": "63d52f69-4c8d-4477-9905-1c3ee770530b",
   "metadata": {},
   "outputs": [],
   "source": [
    "input_list = [value for value in range(5,51,3)]"
   ]
  },
  {
   "cell_type": "code",
   "execution_count": 38,
   "id": "f8d98d8c-cc01-40a7-a98b-16ae79bd5723",
   "metadata": {},
   "outputs": [
    {
     "name": "stdout",
     "output_type": "stream",
     "text": [
      "[5, 8, 11, 14, 17, 20, 23, 26, 29, 32, 35, 38, 41, 44, 47, 50]\n"
     ]
    }
   ],
   "source": [
    "print(input_list)"
   ]
  },
  {
   "cell_type": "code",
   "execution_count": 39,
   "id": "08a1ced8-7096-496d-870b-fe60ba26e714",
   "metadata": {},
   "outputs": [],
   "source": [
    "sum = 0"
   ]
  },
  {
   "cell_type": "code",
   "execution_count": 40,
   "id": "8c3a49b3-6489-4aef-b4fa-1e85e46dec1a",
   "metadata": {},
   "outputs": [],
   "source": [
    "output_list = []"
   ]
  },
  {
   "cell_type": "code",
   "execution_count": 41,
   "id": "bd9a98a6-9bed-4102-9805-f50712c905b2",
   "metadata": {},
   "outputs": [],
   "source": [
    "for number in input_list:\n",
    "    if number % 5 == 0:\n",
    "        output_list.append(number)\n",
    "        sum += number ** 2\n"
   ]
  },
  {
   "cell_type": "code",
   "execution_count": 42,
   "id": "32a6e3ef-c280-4e42-91a3-d6f42531f48d",
   "metadata": {},
   "outputs": [
    {
     "name": "stdout",
     "output_type": "stream",
     "text": [
      "4150\n"
     ]
    }
   ],
   "source": [
    "print(sum)"
   ]
  },
  {
   "cell_type": "code",
   "execution_count": 1,
   "id": "82d779c3-29cf-42f4-a6b6-c364d51cb52d",
   "metadata": {},
   "outputs": [
    {
     "ename": "NameError",
     "evalue": "name 'output_list' is not defined",
     "output_type": "error",
     "traceback": [
      "\u001b[0;31m---------------------------------------------------------------------------\u001b[0m",
      "\u001b[0;31mNameError\u001b[0m                                 Traceback (most recent call last)",
      "Cell \u001b[0;32mIn[1], line 1\u001b[0m\n\u001b[0;32m----> 1\u001b[0m \u001b[38;5;28mprint\u001b[39m(\u001b[43moutput_list\u001b[49m)\n",
      "\u001b[0;31mNameError\u001b[0m: name 'output_list' is not defined"
     ]
    }
   ],
   "source": [
    "print(output_list)"
   ]
  },
  {
   "cell_type": "code",
   "execution_count": null,
   "id": "af0dedd0-c8b1-4bef-93c2-6b256b945588",
   "metadata": {},
   "outputs": [],
   "source": [
    "#split prints and make that file as the sample"
   ]
  }
 ],
 "metadata": {
  "kernelspec": {
   "display_name": "Python 3 (ipykernel)",
   "language": "python",
   "name": "python3"
  },
  "language_info": {
   "codemirror_mode": {
    "name": "ipython",
    "version": 3
   },
   "file_extension": ".py",
   "mimetype": "text/x-python",
   "name": "python",
   "nbconvert_exporter": "python",
   "pygments_lexer": "ipython3",
   "version": "3.12.5"
  }
 },
 "nbformat": 4,
 "nbformat_minor": 5
}
