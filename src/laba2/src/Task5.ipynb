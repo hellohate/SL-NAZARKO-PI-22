{
 "cells": [
  {
   "cell_type": "code",
   "execution_count": 3,
   "id": "046c2c02-56d4-4afd-b501-da5835918052",
   "metadata": {},
   "outputs": [],
   "source": [
    "cities = {\n",
    "    'Lviv': {\n",
    "        '95': 64,\n",
    "        '95 puls': 65,\n",
    "        '100': 70\n",
    "    },\n",
    "    'Kiev': {\n",
    "        '95': 66,\n",
    "        '92': 63,\n",
    "        '95 puls': 68\n",
    "    },\n",
    "    'Ternopil': {\n",
    "        '95': 63,\n",
    "        '92': 60,\n",
    "        '100': 68\n",
    "    }\n",
    "}"
   ]
  },
  {
   "cell_type": "code",
   "execution_count": 1,
   "id": "547c33a8-75db-4436-89fc-dc863a576aab",
   "metadata": {},
   "outputs": [],
   "source": [
    "def avg_price_for_gas(information_dict: dict):\n",
    "    fuel_sums = {}\n",
    "    fuel_counts = {}\n",
    "\n",
    "    for city, fuels in information_dict.items():\n",
    "        for fuel_type, price in fuels.items():\n",
    "            if fuel_type in fuel_sums:\n",
    "                fuel_sums[fuel_type] += price\n",
    "                fuel_counts[fuel_type] += 1\n",
    "            else:\n",
    "                fuel_sums[fuel_type] = price\n",
    "                fuel_counts[fuel_type] = 1\n",
    "\n",
    "    average_prices = {fuel_type: fuel_sums[fuel_type] / fuel_counts[fuel_type] for fuel_type in fuel_sums}\n",
    "    return average_prices"
   ]
  },
  {
   "cell_type": "code",
   "execution_count": null,
   "id": "1eabfbdb-5d36-400a-aa13-0ef0c6239527",
   "metadata": {},
   "outputs": [],
   "source": [
    "#"
   ]
  },
  {
   "cell_type": "code",
   "execution_count": 5,
   "id": "00852002-7c63-4851-a028-3e4ab84b7404",
   "metadata": {},
   "outputs": [
    {
     "name": "stdout",
     "output_type": "stream",
     "text": [
      "{'95': 64.33333333333333, '95 puls': 66.5, '100': 69.0, '92': 61.5}\n"
     ]
    }
   ],
   "source": [
    "print(avg_price_for_gas(cities))"
   ]
  },
  {
   "cell_type": "code",
   "execution_count": null,
   "id": "bc95871a-5e2b-45d3-9c9e-b55ced8e55f6",
   "metadata": {},
   "outputs": [],
   "source": []
  }
 ],
 "metadata": {
  "kernelspec": {
   "display_name": "Python 3 (ipykernel)",
   "language": "python",
   "name": "python3"
  },
  "language_info": {
   "codemirror_mode": {
    "name": "ipython",
    "version": 3
   },
   "file_extension": ".py",
   "mimetype": "text/x-python",
   "name": "python",
   "nbconvert_exporter": "python",
   "pygments_lexer": "ipython3",
   "version": "3.12.5"
  }
 },
 "nbformat": 4,
 "nbformat_minor": 5
}
