{
 "cells": [
  {
   "cell_type": "code",
   "execution_count": null,
   "id": "4a7af86004b6d161",
   "metadata": {},
   "outputs": [],
   "source": [
    "def rights_assignment(role, *permissions):\n",
    "    return {role: tuple(permissions)}"
   ]
  },
  {
   "cell_type": "code",
   "execution_count": null,
   "id": "a7678ce5bbec700",
   "metadata": {},
   "outputs": [],
   "source": [
    "user1 = rights_assignment('Admin', 'Create', 'Read', 'Update', 'Delete')"
   ]
  },
  {
   "cell_type": "code",
   "execution_count": null,
   "id": "81e4723d89b41538",
   "metadata": {},
   "outputs": [],
   "source": [
    "print(user1)"
   ]
  },
  {
   "cell_type": "code",
   "execution_count": null,
   "id": "3c2fc03a0563406c",
   "metadata": {},
   "outputs": [],
   "source": [
    "def check_permissions(user):\n",
    "    if user.key = "
   ]
  }
 ],
 "metadata": {
  "kernelspec": {
   "display_name": "Python 3 (ipykernel)",
   "language": "python",
   "name": "python3"
  },
  "language_info": {
   "codemirror_mode": {
    "name": "ipython",
    "version": 3
   },
   "file_extension": ".py",
   "mimetype": "text/x-python",
   "name": "python",
   "nbconvert_exporter": "python",
   "pygments_lexer": "ipython3",
   "version": "3.12.5"
  }
 },
 "nbformat": 4,
 "nbformat_minor": 5
}
