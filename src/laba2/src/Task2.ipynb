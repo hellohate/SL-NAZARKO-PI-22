{
 "cells": [
  {
   "cell_type": "code",
   "execution_count": 13,
   "id": "185b8130-6f18-4b05-a3fc-d664c825c46c",
   "metadata": {},
   "outputs": [],
   "source": [
    "from typing import List, Any, LiteralString"
   ]
  },
  {
   "cell_type": "code",
   "execution_count": 14,
   "id": "07fa347e-fb4b-48c3-a82b-78f4df07b98b",
   "metadata": {},
   "outputs": [],
   "source": [
    "country = [\"argentina\", \"belgium\", \"bulgaria\", \"brazil\", \"united Kingdom\",\n",
    "\"greece\", \"Denmark\", \"dominican RepubliC\", \"usa\", \"Liechtenstein\"]\n",
    "new_countries = [\"Poland\", \"Brazil\", \"Portugal\", \"Belgium\", \"Romania\", \"USA\",\n",
    "\"UK\", \"Japan\", \"Brazil\"]"
   ]
  },
  {
   "cell_type": "code",
   "execution_count": 15,
   "id": "767fa178-2fd6-418f-8ad5-65ed17b52658",
   "metadata": {},
   "outputs": [],
   "source": [
    "def list_preparation(countries_list: List[str | Any] = None)-> list[str | LiteralString] | None:\n",
    "    if not countries_list:\n",
    "        return None\n",
    "\n",
    "    countries_list_edited = []\n",
    "    countries_list_edited.extend(countries_list)\n",
    "    formatted_list = []\n",
    "\n",
    "    for country in countries_list:\n",
    "        if country.lower() == \"united kingdom\":\n",
    "            formatted_list.append(\"UK\")\n",
    "        elif country.lower() == \"usa\":\n",
    "            formatted_list.append(\"USA\")\n",
    "        else:\n",
    "            formatted_list.append(country.capitalize())\n",
    "    return formatted_list"
   ]
  },
  {
   "cell_type": "code",
   "execution_count": 16,
   "id": "03413331-c7fd-4a82-9271-6baf14d9d607",
   "metadata": {},
   "outputs": [],
   "source": [
    "countries = list_preparation(country)"
   ]
  },
  {
   "cell_type": "code",
   "execution_count": 17,
   "id": "8e86d3df-4502-4ddd-af89-b2dd68cae146",
   "metadata": {},
   "outputs": [
    {
     "name": "stdout",
     "output_type": "stream",
     "text": [
      "['Argentina', 'Belgium', 'Bulgaria', 'Brazil', 'UK', 'Greece', 'Denmark', 'Dominican republic', 'USA', 'Liechtenstein']\n"
     ]
    }
   ],
   "source": [
    "print(countries)"
   ]
  },
  {
   "cell_type": "code",
   "execution_count": 1,
   "id": "59edb212-05a9-4405-8ce2-e3d28bc9d5d7",
   "metadata": {},
   "outputs": [],
   "source": [
    "def list_concat(main_list, new_list):\n",
    "    for item in new_list[:]:\n",
    "        if item not in main_list:\n",
    "            main_list.append(item)\n",
    "            new_list.remove(item)\n",
    "        else:\n",
    "            index = main_list.index(item)\n",
    "            main_list.insert(index + 1, item)\n",
    "            new_list.remove(item)\n",
    "    return main_list\n",
    "    # fix removes and remake new lists to len"
   ]
  },
  {
   "cell_type": "code",
   "execution_count": 19,
   "id": "fc67203c-6c54-4d60-aea7-2d336de0601c",
   "metadata": {},
   "outputs": [
    {
     "name": "stdout",
     "output_type": "stream",
     "text": [
      "['Argentina', 'Belgium', 'Belgium', 'Bulgaria', 'Brazil', 'Brazil', 'Brazil', 'UK', 'UK', 'Greece', 'Denmark', 'Dominican republic', 'USA', 'USA', 'Liechtenstein', 'Poland', 'Portugal', 'Romania', 'Japan']\n"
     ]
    }
   ],
   "source": [
    "print(list_concat(countries, new_countries))"
   ]
  },
  {
   "cell_type": "code",
   "execution_count": null,
   "id": "d80480ce-4035-46df-be32-df0809a78b0b",
   "metadata": {},
   "outputs": [],
   "source": []
  }
 ],
 "metadata": {
  "kernelspec": {
   "display_name": "Python 3 (ipykernel)",
   "language": "python",
   "name": "python3"
  },
  "language_info": {
   "codemirror_mode": {
    "name": "ipython",
    "version": 3
   },
   "file_extension": ".py",
   "mimetype": "text/x-python",
   "name": "python",
   "nbconvert_exporter": "python",
   "pygments_lexer": "ipython3",
   "version": "3.12.5"
  }
 },
 "nbformat": 4,
 "nbformat_minor": 5
}
