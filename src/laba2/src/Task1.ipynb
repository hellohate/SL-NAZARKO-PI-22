{
 "cells": [
  {
   "cell_type": "code",
   "execution_count": 2,
   "id": "3468417b-d046-4d81-9fbf-13660c547a9f",
   "metadata": {},
   "outputs": [],
   "source": [
    "from typing import List, Any"
   ]
  },
  {
   "cell_type": "code",
   "execution_count": 3,
   "id": "090eadbb-ee74-41ad-a8b1-c9345d68b858",
   "metadata": {},
   "outputs": [],
   "source": [
    "car_1 = [\"Toyota\", \"Volkswagen\", \"Ford\", \"Hyundai\", \"Honda\",\n",
    "\"Nissan\", \"Chevrolet\", \"Kia\", \"Mercedes\", \"BMW\",\n",
    "\"Audi\", \"Citroen\", \"Lexus\", \"Mazda\", \"Mitsubishi\"]\n",
    "car_2 = [\"Smart\", \"Seat\", \"saaB\", \"mini\", \"land rover\"]\n",
    "car_3 = [\"LoTus\", \"LinColn\", \"lanciA\", \"Infinity\", \"fiat\"]\n",
    "car_4 = [\"Acura\", \"Alfa Romeo\", \"Bentley\", \"Brabus\", \"Bugatti\"]"
   ]
  },
  {
   "cell_type": "code",
   "execution_count": 4,
   "id": "29858c2d-abb8-4192-be71-fab704981974",
   "metadata": {},
   "outputs": [],
   "source": [
    "\n",
    "def work_with_lists(car_list1: List[str | Any] = None, car_list2: List[str | Any] = None)-> list[Any] | None:\n",
    "    if not car_list1 or not car_list2:\n",
    "        return None\n",
    "\n",
    "    my_car = []\n",
    "    my_car += car_list1[1:12:2]\n",
    "\n",
    "    formatted_car_2 = [car.upper() if car.lower() in [\"bmw\", \"seat\"] else car.capitalize() for car in car_list2]\n",
    "    my_car += formatted_car_2\n",
    "    my_car.sort(reverse=True)\n",
    "    print(my_car)\n",
    "    my_car[1], my_car[-1] = my_car[-1], my_car[1]\n",
    "\n",
    "    print(my_car[2], my_car[6])\n",
    "    print(my_car)\n",
    "    return my_car\n",
    "    "
   ]
  },
  {
   "cell_type": "code",
   "execution_count": 5,
   "id": "df7db446-36c0-48ee-8b07-4bd115196c74",
   "metadata": {},
   "outputs": [
    {
     "name": "stdout",
     "output_type": "stream",
     "text": [
      "['Volkswagen', 'Smart', 'Saab', 'SEAT', 'Nissan', 'Mini', 'Land rover', 'Kia', 'Hyundai', 'Citroen', 'BMW']\n",
      "Saab Land rover\n",
      "['Volkswagen', 'BMW', 'Saab', 'SEAT', 'Nissan', 'Mini', 'Land rover', 'Kia', 'Hyundai', 'Citroen', 'Smart']\n",
      "['LinColn', 'Infinity', 'Bugatti', 'Brabus', 'Bentley', 'Alfa romeo', 'Acura']\n",
      "Bugatti Infinity\n",
      "['LinColn', 'Acura', 'Bugatti', 'Brabus', 'Bentley', 'Alfa romeo', 'Infinity']\n"
     ]
    }
   ],
   "source": [
    " cars_list_1 , cars_list_2 = work_with_lists(car_1, car_2), work_with_lists(car_3, car_4)"
   ]
  },
  {
   "cell_type": "code",
   "execution_count": 6,
   "id": "64d2eed9-5e77-4640-bace-f5ed73b8ac4b",
   "metadata": {},
   "outputs": [
    {
     "name": "stdout",
     "output_type": "stream",
     "text": [
      "['Volkswagen', 'BMW', 'Saab', 'SEAT', 'Nissan', 'Mini', 'Land rover', 'Kia', 'Hyundai', 'Citroen', 'Smart']\n"
     ]
    }
   ],
   "source": [
    "print(cars_list_1)"
   ]
  },
  {
   "cell_type": "code",
   "execution_count": 7,
   "id": "124745f6-5848-4cb1-8a96-4a124f226e72",
   "metadata": {},
   "outputs": [
    {
     "name": "stdout",
     "output_type": "stream",
     "text": [
      "['LinColn', 'Acura', 'Bugatti', 'Brabus', 'Bentley', 'Alfa romeo', 'Infinity']\n"
     ]
    }
   ],
   "source": [
    "print(cars_list_2)"
   ]
  },
  {
   "cell_type": "code",
   "execution_count": null,
   "id": "0562a564-5a5c-42ee-9113-e6dc8315eb3e",
   "metadata": {},
   "outputs": [],
   "source": []
  }
 ],
 "metadata": {
  "kernelspec": {
   "display_name": "Python 3 (ipykernel)",
   "language": "python",
   "name": "python3"
  },
  "language_info": {
   "codemirror_mode": {
    "name": "ipython",
    "version": 3
   },
   "file_extension": ".py",
   "mimetype": "text/x-python",
   "name": "python",
   "nbconvert_exporter": "python",
   "pygments_lexer": "ipython3",
   "version": "3.12.5"
  }
 },
 "nbformat": 4,
 "nbformat_minor": 5
}
